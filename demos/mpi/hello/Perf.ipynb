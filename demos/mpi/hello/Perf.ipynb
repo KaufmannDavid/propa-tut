{
 "cells": [
  {
   "cell_type": "markdown",
   "metadata": {},
   "source": [
    "This notebook contains some functions to run a list of commands and parse the ouput of `time`-ing it.\n",
    "It requires Jupyter, matplotlib and LaTeX (for exporting the resulting plot)."
   ]
  },
  {
   "cell_type": "code",
   "execution_count": 1,
   "metadata": {},
   "outputs": [],
   "source": [
    "import subprocess"
   ]
  },
  {
   "cell_type": "code",
   "execution_count": 2,
   "metadata": {},
   "outputs": [],
   "source": [
    "def ssv_to_dict(ssv):\n",
    "    \"\"\"\n",
    "    Convert a 2-column space-separated table into a dict.\n",
    "    \"\"\"\n",
    "    data = dict()\n",
    "    for line in ssv.splitlines():\n",
    "        parts = line.split(\" \")\n",
    "        if len(parts) == 2:\n",
    "            data[parts[0]] = parts[1]\n",
    "    return data\n",
    "\n",
    "def time_command(command):\n",
    "    \"\"\"\n",
    "    Run the given command, time it using `time` and return the results as a dictionary of floats.\n",
    "    \"\"\"\n",
    "    \n",
    "    proc = subprocess.run([\n",
    "        \"bash\", \"-c\",\n",
    "        \"time -p {}\".format(command)\n",
    "    ], capture_output=True)\n",
    "    \n",
    "    raw_dict = ssv_to_dict(proc.stderr.decode(\"utf-8\"))\n",
    "    \n",
    "    return {\n",
    "        key: float(value.replace(\",\", \".\")) for key, value in raw_dict.items()\n",
    "    }"
   ]
  },
  {
   "cell_type": "code",
   "execution_count": 3,
   "metadata": {},
   "outputs": [
    {
     "data": {
      "text/plain": [
       "{'real': 7.64, 'user': 28.13, 'sys': 0.12}"
      ]
     },
     "execution_count": 3,
     "metadata": {},
     "output_type": "execute_result"
    }
   ],
   "source": [
    "time_command(\"mpirun --host localhost:4 ./hello\")"
   ]
  },
  {
   "cell_type": "code",
   "execution_count": 4,
   "metadata": {},
   "outputs": [],
   "source": [
    "def time_tasks(tasks):\n",
    "    results = []\n",
    "    for label, command in tasks:\n",
    "        results.append((label, time_command(command)))\n",
    "    return results"
   ]
  },
  {
   "cell_type": "code",
   "execution_count": 5,
   "metadata": {},
   "outputs": [],
   "source": [
    "tasks = []\n",
    "for n_cores in [1,2,4,8,16,32,64]:\n",
    "    tasks.append((\n",
    "        \"{}\".format(n_cores),\n",
    "        \"mpirun --host localhost:{} ./hello\".format(n_cores)\n",
    "    ))\n",
    "\n",
    "results = time_tasks(tasks)"
   ]
  },
  {
   "cell_type": "code",
   "execution_count": 7,
   "metadata": {},
   "outputs": [],
   "source": [
    "import matplotlib\n",
    "import matplotlib.pyplot as plt\n",
    "\n",
    "# https://timodenk.com/blog/exporting-matplotlib-plots-to-latex/\n",
    "matplotlib.use(\"pgf\")\n",
    "matplotlib.rcParams.update({\n",
    "    \"pgf.texsystem\": \"pdflatex\",\n",
    "    'font.family': \"serif\",\n",
    "    'text.usetex': True,\n",
    "    'pgf.rcfonts': False,\n",
    "})\n",
    "\n",
    "labels = [r[0] for r in results]\n",
    "reals = [r[1]['real'] for r in results]\n",
    "users = [r[1]['user'] for r in results]\n",
    "\n",
    "fig, ax = plt.subplots()\n",
    "\n",
    "ax.plot(labels, reals, users)\n",
    "ax.set_xlabel('number of cores')\n",
    "ax.set_ylabel('time elapsed (s)')\n",
    "ax.set_ylim(bottom=0)\n",
    "ax.legend(['real', 'user'])\n",
    "\n",
    "# About right for mtheme beamer slides\n",
    "fig.set_size_inches(w=4.4, h=2)\n",
    "fig.savefig('perf.pgf')"
   ]
  },
  {
   "cell_type": "code",
   "execution_count": null,
   "metadata": {},
   "outputs": [],
   "source": []
  }
 ],
 "metadata": {
  "kernelspec": {
   "display_name": "Python 3",
   "language": "python",
   "name": "python3"
  },
  "language_info": {
   "codemirror_mode": {
    "name": "ipython",
    "version": 3
   },
   "file_extension": ".py",
   "mimetype": "text/x-python",
   "name": "python",
   "nbconvert_exporter": "python",
   "pygments_lexer": "ipython3",
   "version": "3.9.1"
  }
 },
 "nbformat": 4,
 "nbformat_minor": 4
}
