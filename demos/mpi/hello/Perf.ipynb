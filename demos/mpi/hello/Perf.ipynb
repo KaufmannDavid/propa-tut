{
 "cells": [
  {
   "cell_type": "markdown",
   "metadata": {},
   "source": [
    "This notebook contains some functions to run a list of commands and parse the ouput of `time`-ing it.\n",
    "It requires Jupyter, matplotlib and LaTeX (if you wanna export the resulting plot)."
   ]
  },
  {
   "cell_type": "code",
   "execution_count": 1,
   "metadata": {},
   "outputs": [],
   "source": [
    "import subprocess"
   ]
  },
  {
   "cell_type": "code",
   "execution_count": 2,
   "metadata": {},
   "outputs": [],
   "source": [
    "def ssv_to_dict(ssv):\n",
    "    \"\"\"\n",
    "    Convert a 2-column space-separated table into a dict.\n",
    "    \"\"\"\n",
    "    data = dict()\n",
    "    for line in ssv.splitlines():\n",
    "        parts = line.split(\" \")\n",
    "        if len(parts) == 2:\n",
    "            data[parts[0]] = parts[1]\n",
    "    return data\n",
    "\n",
    "def time_command(command):\n",
    "    \"\"\"\n",
    "    Run the given command, time it using `time` and return the results as a dictionary of floats.\n",
    "    \"\"\"\n",
    "    \n",
    "    proc = subprocess.run([\n",
    "        \"bash\", \"-c\",\n",
    "        \"time -p {}\".format(command)\n",
    "    ], capture_output=True)\n",
    "    \n",
    "    raw_dict = ssv_to_dict(proc.stderr.decode(\"utf-8\"))\n",
    "    \n",
    "    return {\n",
    "        key: float(value.replace(\",\", \".\")) for key, value in raw_dict.items()\n",
    "    }"
   ]
  },
  {
   "cell_type": "code",
   "execution_count": 3,
   "metadata": {},
   "outputs": [],
   "source": [
    "# time_command(\"mpirun --host localhost:4 ./hello\")"
   ]
  },
  {
   "cell_type": "code",
   "execution_count": 4,
   "metadata": {},
   "outputs": [],
   "source": [
    "def time_tasks(tasks):\n",
    "    results = []\n",
    "    for label, command in tasks:\n",
    "        print(\"Timing task '{}'\".format(label))\n",
    "        times = time_command(command)\n",
    "        print(\"  Result: {}\".format(times))\n",
    "        results.append((label, times))\n",
    "    return results"
   ]
  },
  {
   "cell_type": "code",
   "execution_count": 19,
   "metadata": {},
   "outputs": [
    {
     "name": "stdout",
     "output_type": "stream",
     "text": [
      "Timing task '1'\n",
      "  Result: {'real': 13.37, 'user': 13.03, 'sys': 0.12}\n",
      "Timing task '2'\n",
      "  Result: {'real': 6.98, 'user': 13.1, 'sys': 0.17}\n",
      "Timing task '4'\n",
      "  Result: {'real': 4.13, 'user': 13.32, 'sys': 0.26}\n",
      "Timing task '8'\n",
      "  Result: {'real': 4.16, 'user': 13.35, 'sys': 0.54}\n",
      "Timing task '16'\n",
      "  Result: {'real': 4.28, 'user': 13.5, 'sys': 0.96}\n",
      "Timing task '32'\n",
      "  Result: {'real': 4.74, 'user': 13.6, 'sys': 2.18}\n",
      "Timing task '64'\n",
      "  Result: {'real': 6.02, 'user': 14.37, 'sys': 4.67}\n",
      "Timing task '128'\n",
      "  Result: {'real': 8.75, 'user': 16.51, 'sys': 11.4}\n"
     ]
    }
   ],
   "source": [
    "tasks = []\n",
    "for n_cores in [1,2,4,8,16,32,64,128]:\n",
    "    tasks.append((\n",
    "        \"{}\".format(n_cores),\n",
    "        \"mpirun --host localhost:{} ./hello\".format(n_cores)\n",
    "    ))\n",
    "\n",
    "results = time_tasks(tasks)"
   ]
  },
  {
   "cell_type": "code",
   "execution_count": 20,
   "metadata": {
    "scrolled": true
   },
   "outputs": [
    {
     "data": {
      "text/plain": [
       "<matplotlib.legend.Legend at 0x7f877b930f70>"
      ]
     },
     "execution_count": 20,
     "metadata": {},
     "output_type": "execute_result"
    },
    {
     "data": {
      "image/png": "[encoded data removed]",
      "text/plain": [
       "<Figure size 432x288 with 1 Axes>"
      ]
     },
     "metadata": {
      "needs_background": "light"
     },
     "output_type": "display_data"
    }
   ],
   "source": [
    "# import matplotlib\n",
    "import matplotlib.pyplot as plt\n",
    "\n",
    "labels = [r[0] for r in results]\n",
    "reals = [r[1]['real'] for r in results]\n",
    "users = [r[1]['user'] for r in results]\n",
    "syss = [r[1]['sys'] for r in results]\n",
    "\n",
    "plt.plot(labels, reals)\n",
    "plt.plot(labels, users)\n",
    "plt.plot(labels, syss)\n",
    "plt.xlabel('number of cores')\n",
    "plt.ylabel('time elapsed (s)')\n",
    "plt.ylim(bottom=0)\n",
    "plt.legend(['real', 'user', 'sys'])"
   ]
  },
  {
   "cell_type": "code",
   "execution_count": 18,
   "metadata": {},
   "outputs": [
    {
     "data": {
      "image/png": "[encoded data removed]",
      "text/plain": [
       "<Figure size 316.8x144 with 1 Axes>"
      ]
     },
     "metadata": {
      "needs_background": "light"
     },
     "output_type": "display_data"
    }
   ],
   "source": [
    "import matplotlib\n",
    "import matplotlib.pyplot as plt\n",
    "\n",
    "# https://timodenk.com/blog/exporting-matplotlib-plots-to-latex/\n",
    "matplotlib.use(\"pgf\")\n",
    "matplotlib.rcParams.update({\n",
    "    \"pgf.texsystem\": \"pdflatex\",\n",
    "    'font.family': \"serif\",\n",
    "    'text.usetex': True,\n",
    "    'pgf.rcfonts': False,\n",
    "})\n",
    "\n",
    "labels = [r[0] for r in results]\n",
    "reals = [r[1]['real'] for r in results]\n",
    "users = [r[1]['user'] for r in results]\n",
    "syss = [r[1]['sys'] for r in results]\n",
    "\n",
    "fig, ax = plt.subplots()\n",
    "\n",
    "ax.plot(labels, reals)\n",
    "ax.plot(labels, users)\n",
    "ax.plot(labels, syss)\n",
    "ax.set_xlabel('number of cores')\n",
    "ax.set_ylabel('time elapsed (s)')\n",
    "ax.set_ylim(bottom=0)\n",
    "ax.legend(['real', 'user', 'sys'])\n",
    "\n",
    "# About right for mtheme beamer slides\n",
    "fig.tight_layout()\n",
    "fig.set_size_inches(w=4.4, h=2)\n",
    "fig.savefig('perf.pgf')"
   ]
  },
  {
   "cell_type": "code",
   "execution_count": null,
   "metadata": {},
   "outputs": [],
   "source": []
  }
 ],
 "metadata": {
  "kernelspec": {
   "display_name": "Python 3",
   "language": "python",
   "name": "python3"
  },
  "language_info": {
   "codemirror_mode": {
    "name": "ipython",
    "version": 3
   },
   "file_extension": ".py",
   "mimetype": "text/x-python",
   "name": "python",
   "nbconvert_exporter": "python",
   "pygments_lexer": "ipython3",
   "version": "3.8.5"
  }
 },
 "nbformat": 4,
 "nbformat_minor": 4
}
