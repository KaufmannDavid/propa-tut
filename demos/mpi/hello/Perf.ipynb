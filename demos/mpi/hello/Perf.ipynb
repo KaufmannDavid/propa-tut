{
 "cells": [
  {
   "cell_type": "markdown",
   "metadata": {},
   "source": [
    "This notebook contains some functions to run a list of commands and parse the ouput of `time`-ing it.\n",
    "It requires Jupyter, matplotlib and LaTeX (if you wanna export the resulting plot)."
   ]
  },
  {
   "cell_type": "code",
   "execution_count": 1,
   "metadata": {},
   "outputs": [],
   "source": [
    "import subprocess"
   ]
  },
  {
   "cell_type": "code",
   "execution_count": 2,
   "metadata": {},
   "outputs": [],
   "source": [
    "def ssv_to_dict(ssv):\n",
    "    \"\"\"\n",
    "    Convert a 2-column space-separated table into a dict.\n",
    "    \"\"\"\n",
    "    data = dict()\n",
    "    for line in ssv.splitlines():\n",
    "        parts = line.split(\" \")\n",
    "        if len(parts) == 2:\n",
    "            data[parts[0]] = parts[1]\n",
    "    return data\n",
    "\n",
    "def time_command(command):\n",
    "    \"\"\"\n",
    "    Run the given command, time it using `time` and return the results as a dictionary of floats.\n",
    "    \"\"\"\n",
    "    \n",
    "    proc = subprocess.run([\n",
    "        \"bash\", \"-c\",\n",
    "        \"time -p {}\".format(command)\n",
    "    ], capture_output=True)\n",
    "    \n",
    "    raw_dict = ssv_to_dict(proc.stderr.decode(\"utf-8\"))\n",
    "    \n",
    "    return {\n",
    "        key: float(value.replace(\",\", \".\")) for key, value in raw_dict.items()\n",
    "    }"
   ]
  },
  {
   "cell_type": "code",
   "execution_count": 3,
   "metadata": {},
   "outputs": [],
   "source": [
    "# time_command(\"mpirun --host localhost:4 ./hello\")"
   ]
  },
  {
   "cell_type": "code",
   "execution_count": 4,
   "metadata": {},
   "outputs": [],
   "source": [
    "def time_tasks(tasks):\n",
    "    results = []\n",
    "    for label, command in tasks:\n",
    "        print(\"Timing task '{}'\".format(label))\n",
    "        times = time_command(command)\n",
    "        print(\"  Result: {}\".format(times))\n",
    "        results.append((label, times))\n",
    "    return results"
   ]
  },
  {
   "cell_type": "code",
   "execution_count": 5,
   "metadata": {},
   "outputs": [
    {
     "name": "stdout",
     "output_type": "stream",
     "text": [
      "Timing task '1'\n",
      "  Result: {'real': 47.59, 'user': 47.2, 'sys': 0.12}\n",
      "Timing task '2'\n",
      "  Result: {'real': 24.32, 'user': 48.23, 'sys': 0.11}\n",
      "Timing task '4'\n",
      "  Result: {'real': 12.46, 'user': 49.1, 'sys': 0.13}\n",
      "Timing task '8'\n",
      "  Result: {'real': 6.61, 'user': 50.3, 'sys': 0.23}\n",
      "Timing task '16'\n",
      "  Result: {'real': 6.36, 'user': 55.01, 'sys': 0.6}\n",
      "Timing task '32'\n",
      "  Result: {'real': 6.47, 'user': 56.12, 'sys': 1.01}\n",
      "Timing task '64'\n",
      "  Result: {'real': 6.78, 'user': 57.96, 'sys': 1.98}\n",
      "Timing task '128'\n",
      "  Result: {'real': 7.73, 'user': 62.83, 'sys': 5.26}\n"
     ]
    }
   ],
   "source": [
    "tasks = []\n",
    "for n_cores in [1,2,4,8,16,32,64,128]:\n",
    "    tasks.append((\n",
    "        \"{}\".format(n_cores),\n",
    "        \"mpirun --host localhost:{} ./hello\".format(n_cores)\n",
    "    ))\n",
    "\n",
    "results = time_tasks(tasks)"
   ]
  },
  {
   "cell_type": "code",
   "execution_count": 6,
   "metadata": {
    "scrolled": true
   },
   "outputs": [
    {
     "ename": "ModuleNotFoundError",
     "evalue": "No module named 'matplotlib'",
     "output_type": "error",
     "traceback": [
      "\u001b[0;31m---------------------------------------------------------------------------\u001b[0m",
      "\u001b[0;31mModuleNotFoundError\u001b[0m                       Traceback (most recent call last)",
      "Cell \u001b[0;32mIn[6], line 2\u001b[0m\n\u001b[1;32m      1\u001b[0m \u001b[39m# import matplotlib\u001b[39;00m\n\u001b[0;32m----> 2\u001b[0m \u001b[39mimport\u001b[39;00m \u001b[39mmatplotlib\u001b[39;00m\u001b[39m.\u001b[39;00m\u001b[39mpyplot\u001b[39;00m \u001b[39mas\u001b[39;00m \u001b[39mplt\u001b[39;00m\n\u001b[1;32m      4\u001b[0m labels \u001b[39m=\u001b[39m [r[\u001b[39m0\u001b[39m] \u001b[39mfor\u001b[39;00m r \u001b[39min\u001b[39;00m results]\n\u001b[1;32m      5\u001b[0m reals \u001b[39m=\u001b[39m [r[\u001b[39m1\u001b[39m][\u001b[39m'\u001b[39m\u001b[39mreal\u001b[39m\u001b[39m'\u001b[39m] \u001b[39mfor\u001b[39;00m r \u001b[39min\u001b[39;00m results]\n",
      "\u001b[0;31mModuleNotFoundError\u001b[0m: No module named 'matplotlib'"
     ]
    }
   ],
   "source": [
    "# import matplotlib\n",
    "import matplotlib.pyplot as plt\n",
    "\n",
    "labels = [r[0] for r in results]\n",
    "reals = [r[1]['real'] for r in results]\n",
    "users = [r[1]['user'] for r in results]\n",
    "syss = [r[1]['sys'] for r in results]\n",
    "\n",
    "plt.plot(labels, reals)\n",
    "plt.plot(labels, users)\n",
    "plt.plot(labels, syss)\n",
    "plt.xlabel('number of cores')\n",
    "plt.ylabel('time elapsed (s)')\n",
    "plt.ylim(bottom=0)\n",
    "plt.legend(['real', 'user', 'sys'])"
   ]
  },
  {
   "cell_type": "code",
   "execution_count": null,
   "metadata": {},
   "outputs": [
    {
     "ename": "",
     "evalue": "",
     "output_type": "error",
     "traceback": [
      "\u001b[1;31mDas Ausführen von Zellen mit „Python 3.10.6 ('cw2')“ erfordert das ipykernel-Paket.\n",
      "\u001b[1;31mFühren Sie den folgenden Befehl aus, um „ipykernel“ in der Python-Umgebung zu installieren. \n",
      "\u001b[1;31mBefehl: „conda install -n cw2 ipykernel --update-deps --force-reinstall“"
     ]
    }
   ],
   "source": [
    "import matplotlib\n",
    "import matplotlib.pyplot as plt\n",
    "\n",
    "# https://timodenk.com/blog/exporting-matplotlib-plots-to-latex/\n",
    "matplotlib.use(\"pgf\")\n",
    "matplotlib.rcParams.update({\n",
    "    \"pgf.texsystem\": \"pdflatex\",\n",
    "    'font.family': \"serif\",\n",
    "    'text.usetex': True,\n",
    "    'pgf.rcfonts': False,\n",
    "})\n",
    "\n",
    "labels = [r[0] for r in results]\n",
    "reals = [r[1]['real'] for r in results]\n",
    "users = [r[1]['user'] for r in results]\n",
    "syss = [r[1]['sys'] for r in results]\n",
    "\n",
    "fig, ax = plt.subplots()\n",
    "\n",
    "ax.plot(labels, reals)\n",
    "ax.plot(labels, users)\n",
    "ax.plot(labels, syss)\n",
    "ax.set_xlabel('number of cores')\n",
    "ax.set_ylabel('time elapsed (s)')\n",
    "ax.set_ylim(bottom=0)\n",
    "ax.legend(['real', 'user', 'sys'])\n",
    "\n",
    "# About right for mtheme beamer slides\n",
    "fig.tight_layout()\n",
    "fig.set_size_inches(w=4.4, h=2)\n",
    "fig.savefig('perf.pgf')"
   ]
  },
  {
   "cell_type": "code",
   "execution_count": null,
   "metadata": {},
   "outputs": [
    {
     "ename": "",
     "evalue": "",
     "output_type": "error",
     "traceback": [
      "\u001b[1;31mDas Ausführen von Zellen mit „Python 3.10.6 ('cw2')“ erfordert das ipykernel-Paket.\n",
      "\u001b[1;31mFühren Sie den folgenden Befehl aus, um „ipykernel“ in der Python-Umgebung zu installieren. \n",
      "\u001b[1;31mBefehl: „conda install -n cw2 ipykernel --update-deps --force-reinstall“"
     ]
    }
   ],
   "source": []
  }
 ],
 "metadata": {
  "kernelspec": {
   "display_name": "Python 3.10.8 64-bit",
   "language": "python",
   "name": "python3"
  },
  "language_info": {
   "codemirror_mode": {
    "name": "ipython",
    "version": 3
   },
   "file_extension": ".py",
   "mimetype": "text/x-python",
   "name": "python",
   "nbconvert_exporter": "python",
   "pygments_lexer": "ipython3",
   "version": "3.10.8"
  },
  "vscode": {
   "interpreter": {
    "hash": "b0fa6594d8f4cbf19f97940f81e996739fb7646882a419484c72d19e05852a7e"
   }
  }
 },
 "nbformat": 4,
 "nbformat_minor": 4
}
